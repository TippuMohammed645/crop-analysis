{
 "cells": [
  {
   "cell_type": "code",
   "execution_count": null,
   "metadata": {},
   "outputs": [],
   "source": [
    "import pandas as pd\n",
    "import numpy as np\n",
    "import plotly.express as px\n",
    "import matplotlib.pyplot as plt\n",
    "import seaborn as sns\n",
    "from category_encoders import TargetEncoder\n",
    "from sklearn.preprocessing import OneHotEncoder\n",
    "from sklearn.preprocessing import RobustScaler,MinMaxScaler\n",
    "from sklearn.neighbors import KNeighborsRegressor\n",
    "from sklearn.model_selection import train_test_split"
   ]
  },
  {
   "cell_type": "code",
   "execution_count": null,
   "metadata": {},
   "outputs": [],
   "source": [
    "data=pd.read_csv(r\"C:\\Users\\Tippu\\Downloads\\Crop Production data.csv\")\n",
    "data1=data.copy()"
   ]
  },
  {
   "cell_type": "code",
   "execution_count": null,
   "metadata": {},
   "outputs": [],
   "source": [
    "data.info()\n",
    "#datatype conversion from int64 to datetime \n",
    "data['Crop_Year']=pd.to_datetime(data['Crop_Year'], \n",
    "                          format='%Y')\n",
    "\n",
    "data['Crop_Year'].unique()\n",
    "data.info()\n"
   ]
  },
  {
   "cell_type": "code",
   "execution_count": null,
   "metadata": {},
   "outputs": [],
   "source": [
    "data.set_index('Crop_Year',inplace=True)\n",
    "data['State_Name'].value_counts()\n",
    "data['Season'].nunique()\n",
    "data.shape"
   ]
  },
  {
   "cell_type": "code",
   "execution_count": null,
   "metadata": {},
   "outputs": [],
   "source": [
    "data['Production'].describe()"
   ]
  },
  {
   "cell_type": "code",
   "execution_count": null,
   "metadata": {},
   "outputs": [],
   "source": [
    "data.duplicated().sum() # no duplicates are present \n",
    "data.isna().sum()   #null values present in production "
   ]
  },
  {
   "cell_type": "code",
   "execution_count": null,
   "metadata": {},
   "outputs": [],
   "source": [
    "for col in data.select_dtypes(include='object').columns:\n",
    "    print(data[col].unique())"
   ]
  },
  {
   "cell_type": "code",
   "execution_count": null,
   "metadata": {},
   "outputs": [],
   "source": [
    "#sns.scatterplot(x=data['Area'],y=data['Production'])\n",
    "\n",
    "#scatterplot between area and production \n",
    "fig,ax=plt.subplots()  #non linear relationship\n",
    "ax.scatter(data['Area'],data['Production'])\n",
    "fig.show()"
   ]
  },
  {
   "cell_type": "code",
   "execution_count": null,
   "metadata": {},
   "outputs": [],
   "source": [
    "#correlation between area and production\n",
    "corr_=data.corr(numeric_only=True)  #this does imply that the yield per unit area varies ..\n",
    "print(corr_)\n",
    "\n",
    "'''\n",
    "Pearson correlation coefficient is a measure of the linear association between two variables.Range[-1,1]\n",
    "#pcc is outlier sensitive.\n",
    "But even if a Pearson correlation coefficient tells us that two variables are uncorrelated,\n",
    "they could still have some type of nonlinear relationship.\n",
    "'''"
   ]
  },
  {
   "cell_type": "code",
   "execution_count": null,
   "metadata": {},
   "outputs": [],
   "source": [
    "#data['yield']=data['Production']/data['Area']\n",
    "#Poor farming practices, adverse weather conditions, or pest infestations can decrease the yield, reducing total production even if the area remains the same."
   ]
  },
  {
   "cell_type": "code",
   "execution_count": null,
   "metadata": {},
   "outputs": [],
   "source": [
    "'''\n",
    "Factors Affecting Area and Yield\n",
    "Land Availability: The amount of cultivable land available for agriculture.\n",
    "Soil Fertility: The quality and fertility of the soil affecting crop growth and\n",
    "yield.\n",
    "Water Resources: Availability of water for irrigation.\n",
    "Climate: Suitable climate conditions for the specific crop.\n",
    "Technological Advancements: Use of modern farming techniques and equipment.\n",
    "Agricultural Practices: Quality of seeds, use of fertilizers and pesticides, \n",
    "crop rotation practices.\n",
    "Government Policies: Policies affecting land use, subsidies, and support for \n",
    "farmers.\n",
    "Economic Factors: Market prices, input costs, and profitability influencing \n",
    "farmers’ decisions on the area to be cultivated.'''"
   ]
  },
  {
   "cell_type": "code",
   "execution_count": null,
   "metadata": {},
   "outputs": [],
   "source": [
    "#box plot\n",
    "fig=px.box(data,'Production',title='box plot for production variable')\n",
    "fig.show()\n",
    "\n",
    "fig=px.box(data,'Area',title='box plot for area variable')\n",
    "fig.show()"
   ]
  },
  {
   "cell_type": "code",
   "execution_count": null,
   "metadata": {},
   "outputs": [],
   "source": [
    "print(data['District_Name'].nunique(),  #646\n",
    "data['State_Name'].nunique(), #33\n",
    "data['Season'].nunique(),\n",
    "data['Crop'].nunique())\n",
    "\n",
    "##memory usage\n",
    "\n",
    "memory_usage=data.memory_usage(deep=True)\n",
    "total_memory_usage=memory_usage.sum()\n",
    "a=total_memory_usage/(1024**2)\n",
    "a"
   ]
  },
  {
   "cell_type": "code",
   "execution_count": null,
   "metadata": {},
   "outputs": [],
   "source": [
    "#onehot encoding on categorical variables\n",
    "cat=data.select_dtypes(include='object').columns\n",
    "onc=OneHotEncoder(drop='first',categories='auto')\n",
    "on1=onc.fit_transform(data[cat]).toarray()\n",
    "feature_names = onc.get_feature_names_out(cat)\n",
    "on2=pd.DataFrame(on1,columns=feature_names)\n",
    "on2\n",
    "\n",
    "#memory usage\n",
    "m1=on2.memory_usage(deep=True)\n",
    "tm=m1.sum()\n",
    "tmm1=tm/(1024**2)\n",
    "tmm1"
   ]
  },
  {
   "cell_type": "code",
   "execution_count": null,
   "metadata": {},
   "outputs": [],
   "source": [
    "#concatinate the categorical variables and numeric variables\n",
    "on2.index=data.index\n",
    "d1=data.drop(cat,axis=1)\n",
    "d2=pd.concat([d1,on2],axis=1)\n",
    "\n",
    "#memory usage \n",
    "m2=d2.memory_usage(deep=True)\n",
    "tm1=m2.sum()\n",
    "tmm2=tm1/(1024**2)\n",
    "tmm2"
   ]
  },
  {
   "cell_type": "code",
   "execution_count": null,
   "metadata": {},
   "outputs": [],
   "source": [
    "#scaling the area and production variables\n",
    "#step1\n",
    "col=['Area','Production']\n",
    "inst_rb=RobustScaler()\n",
    "\n",
    "rb_scaler=inst_rb.fit_transform(d2[col])      \n",
    "rb_scaler2=pd.DataFrame(rb_scaler,columns=col)\n",
    "rb_scaler2.describe()\n",
    "#rb_scaler2.isna().sum()\n",
    "\n",
    "#step2\n",
    "inst_mn=MinMaxScaler()\n",
    "mn_scaler=inst_mn.fit_transform(rb_scaler2[col])\n",
    "mn_scaler1=pd.DataFrame(mn_scaler,columns=col)\n",
    "mn_scaler1.describe()"
   ]
  },
  {
   "cell_type": "code",
   "execution_count": null,
   "metadata": {},
   "outputs": [],
   "source": [
    "#setting the index of d2\n",
    "d2.index=mn_scaler1.index\n",
    "\n",
    "d3=pd.concat([d2,mn_scaler1],axis=1)\n",
    "d3.sample(5)\n",
    "d4=d3.iloc[:,2:]\n",
    "#d3.columns=d3.columns.astype('str')\n",
    "d4.describe()"
   ]
  },
  {
   "cell_type": "code",
   "execution_count": null,
   "metadata": {},
   "outputs": [],
   "source": [
    "#memory usage \n",
    "m3=d4.memory_usage(deep=True)\n",
    "tm3=m3.sum()\n",
    "tmm3=tm3/(1024**2)\n",
    "tmm3"
   ]
  },
  {
   "cell_type": "code",
   "execution_count": null,
   "metadata": {},
   "outputs": [],
   "source": [
    "#missing indexes\n",
    "id=d4[d4['Production'].isna()].index\n",
    "\n",
    "#missing dataframe\n",
    "ms_df=d4.iloc[id,]\n",
    "ms_df.sample(5)"
   ]
  },
  {
   "cell_type": "code",
   "execution_count": null,
   "metadata": {},
   "outputs": [],
   "source": [
    "#train data\n",
    "# Use boolean indexing to filter out rows by index\n",
    "train_df = d4[~d4.index.isin(id)]\n",
    "train_df\n",
    "\n",
    "##############\n",
    "y_df=train_df['Production']\n",
    "x_df=train_df.drop(['Production'],axis=1)\n",
    "x_df.sample(5)\n"
   ]
  },
  {
   "cell_type": "code",
   "execution_count": null,
   "metadata": {},
   "outputs": [],
   "source": [
    "#split the data \n",
    "x_train,x_test,y_train,y_test=train_test_split(x_df,y_df,test_size=0.2,shuffle=True)\n",
    "\n",
    "# Initialize the KNNImputer\n",
    "reg = KNeighborsRegressor(n_neighbors=5,weights='distance',n_jobs=-1)\n",
    "model_reg=reg.fit(x_df,y_df)\n"
   ]
  },
  {
   "cell_type": "code",
   "execution_count": null,
   "metadata": {},
   "outputs": [],
   "source": [
    "#prediction\n",
    "ms_df=ms_df.drop(['Production'],axis=1)\n",
    "pred=model_reg.predict(ms_df)\n",
    "pred1=pd.DataFrame(pred,columns=['Production'])\n",
    "pred1.describe()"
   ]
  },
  {
   "cell_type": "code",
   "execution_count": null,
   "metadata": {},
   "outputs": [],
   "source": [
    "pred1.index=ms_df.index\n",
    "y1=pd.concat([ms_df['Area'],pred1],axis=1)\n",
    "#inverse the scaled data to original form step1\n",
    "y_org1=pd.DataFrame(inst_mn.inverse_transform(y1[col]),columns=y1.columns)\n",
    "#inverse the scaled data to original form step2\n",
    "y_org2=pd.DataFrame(inst_rb.inverse_transform(y_org1[col]),columns=y1.columns)  # converted into its original form by inversing the data points of area and production\n",
    "y_org2.index=y1.index\n",
    "y_org2"
   ]
  },
  {
   "cell_type": "code",
   "execution_count": null,
   "metadata": {},
   "outputs": [],
   "source": [
    "ms1=ms_df.drop(['Area'],axis=1)\n",
    "ms2=pd.concat([ms1,y_org2],axis=1)\n",
    "ms2"
   ]
  },
  {
   "cell_type": "code",
   "execution_count": null,
   "metadata": {},
   "outputs": [],
   "source": [
    "tf=train_df.drop(['Area','Production'],axis=1)\n",
    "\n",
    "#converting train data's area, production into original value\n",
    "train_df_modified=pd.DataFrame(inst_mn.inverse_transform(train_df[col]),columns=col)\n",
    "train_df_modified1=pd.DataFrame(inst_rb.inverse_transform(train_df_modified[col]),columns=col)\n",
    "train_df_modified1"
   ]
  },
  {
   "cell_type": "code",
   "execution_count": null,
   "metadata": {},
   "outputs": [],
   "source": [
    "data2=data1.drop(['Area','Production'],axis=1)\n",
    "\n",
    "t_m2=pd.concat([y_org2,train_df_modified1],axis=0)\n",
    "t1_=t_m2.sort_index(ascending=True)"
   ]
  },
  {
   "cell_type": "code",
   "execution_count": null,
   "metadata": {},
   "outputs": [],
   "source": [
    "#concatinate the processed data\n",
    "data_final=pd.concat([data2,t1_],axis=1)\n",
    "data_final.isna().sum()      #no null values are present after the preprocessing\n",
    "data_final"
   ]
  },
  {
   "cell_type": "code",
   "execution_count": null,
   "metadata": {},
   "outputs": [],
   "source": [
    "#save the file in excel  and csv format \n",
    "data_final.to_excel('crop_cleaned.xlsx')\n",
    "data_final.to_csv('crop_cleaned.csv',index=False)"
   ]
  }
 ],
 "metadata": {
  "kernelspec": {
   "display_name": "Python 3",
   "language": "python",
   "name": "python3"
  },
  "language_info": {
   "codemirror_mode": {
    "name": "ipython",
    "version": 3
   },
   "file_extension": ".py",
   "mimetype": "text/x-python",
   "name": "python",
   "nbconvert_exporter": "python",
   "pygments_lexer": "ipython3",
   "version": "3.10.9"
  }
 },
 "nbformat": 4,
 "nbformat_minor": 2
}
